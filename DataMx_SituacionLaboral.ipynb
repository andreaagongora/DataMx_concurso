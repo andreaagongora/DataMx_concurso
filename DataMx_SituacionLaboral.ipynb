{
 "cells": [
  {
   "cell_type": "markdown",
   "metadata": {},
   "source": [
    "<h1>Impacto de la pandemia del COVID-19 en el empleo de las mujeres</h1>"
   ]
  },
  {
   "cell_type": "markdown",
   "metadata": {},
   "source": [
    "<p><b>Objetivo:</b> Cómo impacto la pandemia en mujeres (situación de desocupación)</p>"
   ]
  },
  {
   "cell_type": "code",
   "execution_count": 1,
   "metadata": {},
   "outputs": [],
   "source": [
    "import pandas as pd\n",
    "import numpy as np\n",
    "import matplotlib.pyplot as plt"
   ]
  },
  {
   "cell_type": "code",
   "execution_count": 2,
   "metadata": {},
   "outputs": [],
   "source": [
    "data = pd.read_csv(\"Job Situation-Sex-Age Range-Quarter.csv\") "
   ]
  },
  {
   "cell_type": "code",
   "execution_count": 3,
   "metadata": {},
   "outputs": [
    {
     "data": {
      "text/html": [
       "<div>\n",
       "<style scoped>\n",
       "    .dataframe tbody tr th:only-of-type {\n",
       "        vertical-align: middle;\n",
       "    }\n",
       "\n",
       "    .dataframe tbody tr th {\n",
       "        vertical-align: top;\n",
       "    }\n",
       "\n",
       "    .dataframe thead th {\n",
       "        text-align: right;\n",
       "    }\n",
       "</style>\n",
       "<table border=\"1\" class=\"dataframe\">\n",
       "  <thead>\n",
       "    <tr style=\"text-align: right;\">\n",
       "      <th></th>\n",
       "      <th>Job Situation ID</th>\n",
       "      <th>Job Situation</th>\n",
       "      <th>Sex ID</th>\n",
       "      <th>Sex</th>\n",
       "      <th>Age Range ID</th>\n",
       "      <th>Age Range</th>\n",
       "      <th>Quarter ID</th>\n",
       "      <th>Quarter</th>\n",
       "      <th>Number of Records</th>\n",
       "    </tr>\n",
       "  </thead>\n",
       "  <tbody>\n",
       "    <tr>\n",
       "      <th>0</th>\n",
       "      <td>1</td>\n",
       "      <td>Has a Job or a Business</td>\n",
       "      <td>1</td>\n",
       "      <td>Male</td>\n",
       "      <td>1</td>\n",
       "      <td>15 to 24 years</td>\n",
       "      <td>20191</td>\n",
       "      <td>2019-Q1</td>\n",
       "      <td>804</td>\n",
       "    </tr>\n",
       "    <tr>\n",
       "      <th>1</th>\n",
       "      <td>1</td>\n",
       "      <td>Has a Job or a Business</td>\n",
       "      <td>1</td>\n",
       "      <td>Male</td>\n",
       "      <td>1</td>\n",
       "      <td>15 to 24 years</td>\n",
       "      <td>20192</td>\n",
       "      <td>2019-Q2</td>\n",
       "      <td>859</td>\n",
       "    </tr>\n",
       "    <tr>\n",
       "      <th>2</th>\n",
       "      <td>1</td>\n",
       "      <td>Has a Job or a Business</td>\n",
       "      <td>1</td>\n",
       "      <td>Male</td>\n",
       "      <td>1</td>\n",
       "      <td>15 to 24 years</td>\n",
       "      <td>20193</td>\n",
       "      <td>2019-Q3</td>\n",
       "      <td>704</td>\n",
       "    </tr>\n",
       "    <tr>\n",
       "      <th>3</th>\n",
       "      <td>1</td>\n",
       "      <td>Has a Job or a Business</td>\n",
       "      <td>1</td>\n",
       "      <td>Male</td>\n",
       "      <td>1</td>\n",
       "      <td>15 to 24 years</td>\n",
       "      <td>20194</td>\n",
       "      <td>2019-Q4</td>\n",
       "      <td>608</td>\n",
       "    </tr>\n",
       "    <tr>\n",
       "      <th>4</th>\n",
       "      <td>1</td>\n",
       "      <td>Has a Job or a Business</td>\n",
       "      <td>1</td>\n",
       "      <td>Male</td>\n",
       "      <td>1</td>\n",
       "      <td>15 to 24 years</td>\n",
       "      <td>20201</td>\n",
       "      <td>2020-Q1</td>\n",
       "      <td>814</td>\n",
       "    </tr>\n",
       "    <tr>\n",
       "      <th>...</th>\n",
       "      <td>...</td>\n",
       "      <td>...</td>\n",
       "      <td>...</td>\n",
       "      <td>...</td>\n",
       "      <td>...</td>\n",
       "      <td>...</td>\n",
       "      <td>...</td>\n",
       "      <td>...</td>\n",
       "      <td>...</td>\n",
       "    </tr>\n",
       "    <tr>\n",
       "      <th>135</th>\n",
       "      <td>2</td>\n",
       "      <td>No</td>\n",
       "      <td>2</td>\n",
       "      <td>Female</td>\n",
       "      <td>5</td>\n",
       "      <td>55 to 64 years</td>\n",
       "      <td>20193</td>\n",
       "      <td>2019-Q3</td>\n",
       "      <td>11262</td>\n",
       "    </tr>\n",
       "    <tr>\n",
       "      <th>136</th>\n",
       "      <td>2</td>\n",
       "      <td>No</td>\n",
       "      <td>2</td>\n",
       "      <td>Female</td>\n",
       "      <td>5</td>\n",
       "      <td>55 to 64 years</td>\n",
       "      <td>20194</td>\n",
       "      <td>2019-Q4</td>\n",
       "      <td>11286</td>\n",
       "    </tr>\n",
       "    <tr>\n",
       "      <th>137</th>\n",
       "      <td>2</td>\n",
       "      <td>No</td>\n",
       "      <td>2</td>\n",
       "      <td>Female</td>\n",
       "      <td>5</td>\n",
       "      <td>55 to 64 years</td>\n",
       "      <td>20201</td>\n",
       "      <td>2020-Q1</td>\n",
       "      <td>11986</td>\n",
       "    </tr>\n",
       "    <tr>\n",
       "      <th>138</th>\n",
       "      <td>2</td>\n",
       "      <td>No</td>\n",
       "      <td>2</td>\n",
       "      <td>Female</td>\n",
       "      <td>5</td>\n",
       "      <td>55 to 64 years</td>\n",
       "      <td>20203</td>\n",
       "      <td>2020-Q3</td>\n",
       "      <td>9272</td>\n",
       "    </tr>\n",
       "    <tr>\n",
       "      <th>139</th>\n",
       "      <td>2</td>\n",
       "      <td>No</td>\n",
       "      <td>2</td>\n",
       "      <td>Female</td>\n",
       "      <td>5</td>\n",
       "      <td>55 to 64 years</td>\n",
       "      <td>20204</td>\n",
       "      <td>2020-Q4</td>\n",
       "      <td>10964</td>\n",
       "    </tr>\n",
       "  </tbody>\n",
       "</table>\n",
       "<p>140 rows × 9 columns</p>\n",
       "</div>"
      ],
      "text/plain": [
       "     Job Situation ID            Job Situation  Sex ID     Sex  Age Range ID  \\\n",
       "0                   1  Has a Job or a Business       1    Male             1   \n",
       "1                   1  Has a Job or a Business       1    Male             1   \n",
       "2                   1  Has a Job or a Business       1    Male             1   \n",
       "3                   1  Has a Job or a Business       1    Male             1   \n",
       "4                   1  Has a Job or a Business       1    Male             1   \n",
       "..                ...                      ...     ...     ...           ...   \n",
       "135                 2                       No       2  Female             5   \n",
       "136                 2                       No       2  Female             5   \n",
       "137                 2                       No       2  Female             5   \n",
       "138                 2                       No       2  Female             5   \n",
       "139                 2                       No       2  Female             5   \n",
       "\n",
       "          Age Range  Quarter ID  Quarter  Number of Records  \n",
       "0    15 to 24 years       20191  2019-Q1                804  \n",
       "1    15 to 24 years       20192  2019-Q2                859  \n",
       "2    15 to 24 years       20193  2019-Q3                704  \n",
       "3    15 to 24 years       20194  2019-Q4                608  \n",
       "4    15 to 24 years       20201  2020-Q1                814  \n",
       "..              ...         ...      ...                ...  \n",
       "135  55 to 64 years       20193  2019-Q3              11262  \n",
       "136  55 to 64 years       20194  2019-Q4              11286  \n",
       "137  55 to 64 years       20201  2020-Q1              11986  \n",
       "138  55 to 64 years       20203  2020-Q3               9272  \n",
       "139  55 to 64 years       20204  2020-Q4              10964  \n",
       "\n",
       "[140 rows x 9 columns]"
      ]
     },
     "execution_count": 3,
     "metadata": {},
     "output_type": "execute_result"
    }
   ],
   "source": [
    "data"
   ]
  },
  {
   "cell_type": "code",
   "execution_count": 4,
   "metadata": {},
   "outputs": [],
   "source": [
    "## Se eliminaron las columnas ['Job Situation ID', 'Sex ID', 'Age Range', 'Quarter']"
   ]
  },
  {
   "cell_type": "code",
   "execution_count": 5,
   "metadata": {},
   "outputs": [],
   "source": [
    "data_filtered = data.drop(columns=['Job Situation ID', 'Sex ID', 'Age Range', 'Age Range ID', 'Quarter ID'])"
   ]
  },
  {
   "cell_type": "code",
   "execution_count": 6,
   "metadata": {},
   "outputs": [],
   "source": [
    "## Se dividieron los datos de acuerdo al sexo"
   ]
  },
  {
   "cell_type": "code",
   "execution_count": 7,
   "metadata": {},
   "outputs": [],
   "source": [
    "data_mujer = data_filtered[data_filtered['Sex'] == 'Female']\n",
    "data_hombre = data_filtered[data_filtered['Sex'] == 'Male']"
   ]
  },
  {
   "cell_type": "code",
   "execution_count": 8,
   "metadata": {},
   "outputs": [],
   "source": [
    "## Eliminar la columna 'Sex'"
   ]
  },
  {
   "cell_type": "code",
   "execution_count": 9,
   "metadata": {},
   "outputs": [],
   "source": [
    "data_mujer = data_mujer.drop(columns=['Sex'])\n",
    "data_hombre = data_hombre.drop(columns=['Sex'])"
   ]
  },
  {
   "cell_type": "code",
   "execution_count": 10,
   "metadata": {},
   "outputs": [],
   "source": [
    "data_mujer = data_mujer.groupby(['Job Situation','Quarter']).sum()\n",
    "data_hombre = data_hombre.groupby(['Job Situation','Quarter']).sum()"
   ]
  },
  {
   "cell_type": "code",
   "execution_count": 11,
   "metadata": {},
   "outputs": [],
   "source": [
    "data_mujer = data_mujer.unstack()\n",
    "data_hombre = data_hombre.unstack()"
   ]
  },
  {
   "cell_type": "code",
   "execution_count": 12,
   "metadata": {},
   "outputs": [
    {
     "data": {
      "text/html": [
       "<div>\n",
       "<style scoped>\n",
       "    .dataframe tbody tr th:only-of-type {\n",
       "        vertical-align: middle;\n",
       "    }\n",
       "\n",
       "    .dataframe tbody tr th {\n",
       "        vertical-align: top;\n",
       "    }\n",
       "\n",
       "    .dataframe thead tr th {\n",
       "        text-align: left;\n",
       "    }\n",
       "\n",
       "    .dataframe thead tr:last-of-type th {\n",
       "        text-align: right;\n",
       "    }\n",
       "</style>\n",
       "<table border=\"1\" class=\"dataframe\">\n",
       "  <thead>\n",
       "    <tr>\n",
       "      <th></th>\n",
       "      <th colspan=\"7\" halign=\"left\">Number of Records</th>\n",
       "    </tr>\n",
       "    <tr>\n",
       "      <th>Quarter</th>\n",
       "      <th>2019-Q1</th>\n",
       "      <th>2019-Q2</th>\n",
       "      <th>2019-Q3</th>\n",
       "      <th>2019-Q4</th>\n",
       "      <th>2020-Q1</th>\n",
       "      <th>2020-Q3</th>\n",
       "      <th>2020-Q4</th>\n",
       "    </tr>\n",
       "    <tr>\n",
       "      <th>Job Situation</th>\n",
       "      <th></th>\n",
       "      <th></th>\n",
       "      <th></th>\n",
       "      <th></th>\n",
       "      <th></th>\n",
       "      <th></th>\n",
       "      <th></th>\n",
       "    </tr>\n",
       "  </thead>\n",
       "  <tbody>\n",
       "    <tr>\n",
       "      <th>Has a Job or a Business</th>\n",
       "      <td>4386</td>\n",
       "      <td>4195</td>\n",
       "      <td>5078</td>\n",
       "      <td>2939</td>\n",
       "      <td>5042</td>\n",
       "      <td>6987</td>\n",
       "      <td>4558</td>\n",
       "    </tr>\n",
       "    <tr>\n",
       "      <th>No</th>\n",
       "      <td>69681</td>\n",
       "      <td>68519</td>\n",
       "      <td>68077</td>\n",
       "      <td>67236</td>\n",
       "      <td>70115</td>\n",
       "      <td>53842</td>\n",
       "      <td>62456</td>\n",
       "    </tr>\n",
       "  </tbody>\n",
       "</table>\n",
       "</div>"
      ],
      "text/plain": [
       "                        Number of Records                                  \\\n",
       "Quarter                           2019-Q1 2019-Q2 2019-Q3 2019-Q4 2020-Q1   \n",
       "Job Situation                                                               \n",
       "Has a Job or a Business              4386    4195    5078    2939    5042   \n",
       "No                                  69681   68519   68077   67236   70115   \n",
       "\n",
       "                                         \n",
       "Quarter                 2020-Q3 2020-Q4  \n",
       "Job Situation                            \n",
       "Has a Job or a Business    6987    4558  \n",
       "No                        53842   62456  "
      ]
     },
     "execution_count": 12,
     "metadata": {},
     "output_type": "execute_result"
    }
   ],
   "source": [
    "data_mujer"
   ]
  },
  {
   "cell_type": "code",
   "execution_count": 13,
   "metadata": {},
   "outputs": [
    {
     "data": {
      "text/html": [
       "<div>\n",
       "<style scoped>\n",
       "    .dataframe tbody tr th:only-of-type {\n",
       "        vertical-align: middle;\n",
       "    }\n",
       "\n",
       "    .dataframe tbody tr th {\n",
       "        vertical-align: top;\n",
       "    }\n",
       "\n",
       "    .dataframe thead tr th {\n",
       "        text-align: left;\n",
       "    }\n",
       "\n",
       "    .dataframe thead tr:last-of-type th {\n",
       "        text-align: right;\n",
       "    }\n",
       "</style>\n",
       "<table border=\"1\" class=\"dataframe\">\n",
       "  <thead>\n",
       "    <tr>\n",
       "      <th></th>\n",
       "      <th colspan=\"7\" halign=\"left\">Number of Records</th>\n",
       "    </tr>\n",
       "    <tr>\n",
       "      <th>Quarter</th>\n",
       "      <th>2019-Q1</th>\n",
       "      <th>2019-Q2</th>\n",
       "      <th>2019-Q3</th>\n",
       "      <th>2019-Q4</th>\n",
       "      <th>2020-Q1</th>\n",
       "      <th>2020-Q3</th>\n",
       "      <th>2020-Q4</th>\n",
       "    </tr>\n",
       "    <tr>\n",
       "      <th>Job Situation</th>\n",
       "      <th></th>\n",
       "      <th></th>\n",
       "      <th></th>\n",
       "      <th></th>\n",
       "      <th></th>\n",
       "      <th></th>\n",
       "      <th></th>\n",
       "    </tr>\n",
       "  </thead>\n",
       "  <tbody>\n",
       "    <tr>\n",
       "      <th>Has a Job or a Business</th>\n",
       "      <td>5346</td>\n",
       "      <td>4995</td>\n",
       "      <td>5119</td>\n",
       "      <td>3948</td>\n",
       "      <td>5848</td>\n",
       "      <td>7470</td>\n",
       "      <td>5460</td>\n",
       "    </tr>\n",
       "    <tr>\n",
       "      <th>No</th>\n",
       "      <td>25298</td>\n",
       "      <td>25287</td>\n",
       "      <td>24878</td>\n",
       "      <td>25070</td>\n",
       "      <td>26558</td>\n",
       "      <td>21641</td>\n",
       "      <td>24791</td>\n",
       "    </tr>\n",
       "  </tbody>\n",
       "</table>\n",
       "</div>"
      ],
      "text/plain": [
       "                        Number of Records                                  \\\n",
       "Quarter                           2019-Q1 2019-Q2 2019-Q3 2019-Q4 2020-Q1   \n",
       "Job Situation                                                               \n",
       "Has a Job or a Business              5346    4995    5119    3948    5848   \n",
       "No                                  25298   25287   24878   25070   26558   \n",
       "\n",
       "                                         \n",
       "Quarter                 2020-Q3 2020-Q4  \n",
       "Job Situation                            \n",
       "Has a Job or a Business    7470    5460  \n",
       "No                        21641   24791  "
      ]
     },
     "execution_count": 13,
     "metadata": {},
     "output_type": "execute_result"
    }
   ],
   "source": [
    "data_hombre"
   ]
  },
  {
   "cell_type": "code",
   "execution_count": 14,
   "metadata": {},
   "outputs": [],
   "source": [
    "def get_index(data):\n",
    "    index = []\n",
    "    for i in range(0,len(data.columns)):\n",
    "        index.append(data.columns[i][1])\n",
    "    return index"
   ]
  },
  {
   "cell_type": "code",
   "execution_count": 15,
   "metadata": {},
   "outputs": [
    {
     "data": {
      "text/plain": [
       "['2019-Q1', '2019-Q2', '2019-Q3', '2019-Q4', '2020-Q1', '2020-Q3', '2020-Q4']"
      ]
     },
     "execution_count": 15,
     "metadata": {},
     "output_type": "execute_result"
    }
   ],
   "source": [
    "index_hombre = get_index(data_hombre)\n",
    "index_hombre"
   ]
  },
  {
   "cell_type": "code",
   "execution_count": 16,
   "metadata": {},
   "outputs": [
    {
     "data": {
      "text/plain": [
       "['2019-Q1', '2019-Q2', '2019-Q3', '2019-Q4', '2020-Q1', '2020-Q3', '2020-Q4']"
      ]
     },
     "execution_count": 16,
     "metadata": {},
     "output_type": "execute_result"
    }
   ],
   "source": [
    "index_mujer = get_index(data_mujer)\n",
    "index_mujer"
   ]
  },
  {
   "cell_type": "code",
   "execution_count": 17,
   "metadata": {},
   "outputs": [],
   "source": [
    "## Al parecer faltan datos del trimestre 2020-Q2, sin embargo los datos de la descarga no arrojan datos \n",
    "## en dichos semestre"
   ]
  },
  {
   "cell_type": "markdown",
   "metadata": {},
   "source": [
    "### Se extrajeron los datos de hombres no laborando y laborando"
   ]
  },
  {
   "cell_type": "code",
   "execution_count": 18,
   "metadata": {},
   "outputs": [
    {
     "data": {
      "text/plain": [
       "[5346, 4995, 5119, 3948, 5848, 7470, 5460]"
      ]
     },
     "execution_count": 18,
     "metadata": {},
     "output_type": "execute_result"
    }
   ],
   "source": [
    "hom_no_laborando = data_hombre.iloc[0].to_list()\n",
    "hom_no_laborando"
   ]
  },
  {
   "cell_type": "code",
   "execution_count": 19,
   "metadata": {},
   "outputs": [
    {
     "data": {
      "text/plain": [
       "[25298, 25287, 24878, 25070, 26558, 21641, 24791]"
      ]
     },
     "execution_count": 19,
     "metadata": {},
     "output_type": "execute_result"
    }
   ],
   "source": [
    "hom_laborando = data_hombre.iloc[1].to_list()\n",
    "hom_laborando"
   ]
  },
  {
   "cell_type": "markdown",
   "metadata": {},
   "source": [
    "### Se extrajeron los datos de mujeres no laborando y laborando"
   ]
  },
  {
   "cell_type": "code",
   "execution_count": 20,
   "metadata": {},
   "outputs": [
    {
     "data": {
      "text/plain": [
       "[4386, 4195, 5078, 2939, 5042, 6987, 4558]"
      ]
     },
     "execution_count": 20,
     "metadata": {},
     "output_type": "execute_result"
    }
   ],
   "source": [
    "muj_no_laborando = data_mujer.iloc[0].to_list()\n",
    "muj_no_laborando"
   ]
  },
  {
   "cell_type": "code",
   "execution_count": 21,
   "metadata": {},
   "outputs": [
    {
     "data": {
      "text/plain": [
       "[69681, 68519, 68077, 67236, 70115, 53842, 62456]"
      ]
     },
     "execution_count": 21,
     "metadata": {},
     "output_type": "execute_result"
    }
   ],
   "source": [
    "muj_laborando = data_mujer.iloc[1].to_list()\n",
    "muj_laborando"
   ]
  },
  {
   "cell_type": "code",
   "execution_count": null,
   "metadata": {},
   "outputs": [],
   "source": []
  },
  {
   "cell_type": "markdown",
   "metadata": {},
   "source": [
    "### Visualización de datos\n",
    "### Gráfica de barras"
   ]
  },
  {
   "cell_type": "markdown",
   "metadata": {},
   "source": [
    "### Mujeres"
   ]
  },
  {
   "cell_type": "code",
   "execution_count": 22,
   "metadata": {},
   "outputs": [
    {
     "data": {
      "image/png": "[encoded data removed]",
      "text/plain": [
       "<Figure size 432x288 with 1 Axes>"
      ]
     },
     "metadata": {
      "needs_background": "light"
     },
     "output_type": "display_data"
    }
   ],
   "source": [
    "muj_laborando = data_mujer.iloc[1].to_list()\n",
    "muj_no_laborando = data_mujer.iloc[0].to_list()\n",
    "\n",
    "index = index_mujer\n",
    "\n",
    "df = pd.DataFrame({'Ocupación': muj_laborando,\n",
    "                'Desocupación': muj_no_laborando}, index=index)\n",
    "\n",
    "ax = df.plot.bar(color=['slateblue', 'darkslateblue'])\n",
    "plt.savefig('Ocup_mujeres.png', dpi=300)\n",
    "plt.show()"
   ]
  },
  {
   "cell_type": "markdown",
   "metadata": {},
   "source": [
    "### Hombres"
   ]
  },
  {
   "cell_type": "code",
   "execution_count": 23,
   "metadata": {},
   "outputs": [
    {
     "data": {
      "image/png": "[encoded data removed]",
      "text/plain": [
       "<Figure size 432x288 with 1 Axes>"
      ]
     },
     "metadata": {
      "needs_background": "light"
     },
     "output_type": "display_data"
    }
   ],
   "source": [
    "hom_laborando = data_hombre.iloc[1].to_list()\n",
    "hom_no_laborando = data_hombre.iloc[0].to_list()\n",
    "\n",
    "index = index_hombre\n",
    "\n",
    "df = pd.DataFrame({'Ocupación': hom_laborando,\n",
    "                'Desocupación': hom_no_laborando}, index=index)\n",
    "ax = df.plot.bar(color=['lightsalmon', 'chocolate'])\n",
    "plt.savefig('Ocup_hombres.png', dpi=300)\n",
    "plt.show()"
   ]
  },
  {
   "cell_type": "code",
   "execution_count": null,
   "metadata": {},
   "outputs": [],
   "source": []
  }
 ],
 "metadata": {
  "kernelspec": {
   "display_name": "Python 3",
   "language": "python",
   "name": "python3"
  },
  "language_info": {
   "codemirror_mode": {
    "name": "ipython",
    "version": 3
   },
   "file_extension": ".py",
   "mimetype": "text/x-python",
   "name": "python",
   "nbconvert_exporter": "python",
   "pygments_lexer": "ipython3",
   "version": "3.8.5"
  }
 },
 "nbformat": 4,
 "nbformat_minor": 4
}
